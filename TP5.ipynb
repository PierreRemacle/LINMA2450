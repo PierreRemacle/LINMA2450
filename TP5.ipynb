{
 "cells": [
  {
   "cell_type": "code",
   "execution_count": 1,
   "metadata": {},
   "outputs": [
    {
     "data": {
      "text/plain": [
       "create_master (generic function with 1 method)"
      ]
     },
     "execution_count": 1,
     "metadata": {},
     "output_type": "execute_result"
    }
   ],
   "source": [
    "using JuMP, Gurobi\n",
    "solver = optimizer_with_attributes(() -> Gurobi.Optimizer(), \"OutputFlag\" => 0, \"Method\" => 0)\n",
    "\n",
    "function create_master(model::Model)\n",
    "    @variable(model, x[1:7], Bin)\n",
    "    w = [4,6,5,7,3,1,6]\n",
    "    @constraint(model, sum(w[n]*x[n] for n in 1:7) <= 18 )\n",
    "    c = [12,10,8,11,14,7,9]\n",
    "    @objective(model, Max, sum(c[n]*x[n] for n in 1:7))\n",
    "end"
   ]
  },
  {
   "cell_type": "code",
   "execution_count": 2,
   "metadata": {},
   "outputs": [
    {
     "name": "stdout",
     "output_type": "stream",
     "text": [
      "Set parameter Username\n",
      "Academic license - for non-commercial use only - expires 2023-11-04\n",
      "Set parameter Method to value 0\n"
     ]
    },
    {
     "data": {
      "text/latex": [
       "$$ \\begin{aligned}\n",
       "\\max\\quad & 12 x_{1} + 10 x_{2} + 8 x_{3} + 11 x_{4} + 14 x_{5} + 7 x_{6} + 9 x_{7}\\\\\n",
       "\\text{Subject to} \\quad & 4 x_{1} + 6 x_{2} + 5 x_{3} + 7 x_{4} + 3 x_{5} + x_{6} + 6 x_{7} \\leq 18.0\\\\\n",
       " & x_{1} \\in \\{0, 1\\}\\\\\n",
       " & x_{2} \\in \\{0, 1\\}\\\\\n",
       " & x_{3} \\in \\{0, 1\\}\\\\\n",
       " & x_{4} \\in \\{0, 1\\}\\\\\n",
       " & x_{5} \\in \\{0, 1\\}\\\\\n",
       " & x_{6} \\in \\{0, 1\\}\\\\\n",
       " & x_{7} \\in \\{0, 1\\}\\\\\n",
       "\\end{aligned} $$"
      ]
     },
     "metadata": {},
     "output_type": "display_data"
    }
   ],
   "source": [
    "# empty model\n",
    "master_model = Model(solver)\n",
    "\n",
    "# empty model is initialized\n",
    "create_master(master_model)\n",
    "\n",
    "optimize!(master_model)\n",
    "value.(master_model[:x])\n",
    "print(master_model)\n",
    "#solution_summary(master_model)\n"
   ]
  },
  {
   "cell_type": "markdown",
   "metadata": {},
   "source": [
    "Dynamic Programming method"
   ]
  },
  {
   "cell_type": "code",
   "execution_count": 3,
   "metadata": {},
   "outputs": [
    {
     "name": "stdout",
     "output_type": "stream",
     "text": [
      "44.0"
     ]
    }
   ],
   "source": [
    "t = zeros(18,8)\n",
    "ind = zeros(18,7)\n",
    "c = [4,6,5,7,3,1,6]\n",
    "w = [12,10,8,11,14,7,9]\n",
    "\n",
    "for i in 1:18 \n",
    "    for j in 1:7 \n",
    "        if i-c[j] <= 0 \n",
    "            t[i,j+1] = t[i,j]\n",
    "        else \n",
    "            t[i,j+1] = max(t[i,j], t[i-c[j],j]+w[j])\n",
    "        end\n",
    "    end\n",
    "end\n",
    "\n",
    "print(t[18,8])"
   ]
  }
 ],
 "metadata": {
  "kernelspec": {
   "display_name": "Julia 1.7.2",
   "language": "julia",
   "name": "julia-1.7"
  },
  "language_info": {
   "file_extension": ".jl",
   "mimetype": "application/julia",
   "name": "julia",
   "version": "1.7.2"
  },
  "orig_nbformat": 4
 },
 "nbformat": 4,
 "nbformat_minor": 2
}

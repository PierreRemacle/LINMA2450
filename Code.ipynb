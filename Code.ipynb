{
 "cells": [
  {
   "cell_type": "code",
   "execution_count": 76,
   "metadata": {},
   "outputs": [
    {
     "data": {
      "text/plain": [
       "create_master (generic function with 1 method)"
      ]
     },
     "execution_count": 76,
     "metadata": {},
     "output_type": "execute_result"
    }
   ],
   "source": [
    "using JuMP, Gurobi\n",
    "solver = optimizer_with_attributes(() -> Gurobi.Optimizer(), \"OutputFlag\" => 0, \"Method\" => 0)\n",
    "#w = [4,6,5,7,3,1,6]#par exemple, normalement une matirce de dim nxn des poids\n",
    "n=5\n",
    "w = rand(n*n)\n",
    "w = collect(reshape(w, n, n))*10\n",
    "a = zero(rand(n))\n",
    "\n",
    "\n",
    "function create_master(model::Model)\n",
    "    @variable(model, x[1:n, 1:n], Bin)\n",
    "    \n",
    "    a[1] = 1\n",
    "    a[n] = -1\n",
    "    \n",
    "    @constraint(model,[i=1:n],sum(x[i,j] -x[j,i] for j in 1:n) == a[i])\n",
    "    \n",
    "    @constraint(model,[i=1:n],sum(x[i,j] for j in 1:n) <= 1)\n",
    "    \n",
    "    @objective(model, Min, sum(sum( w[i,j] * x[i,j] for j in 1:n) for i in 1:n) ) #l'erreur dient d'ici\n",
    "    \n",
    "    \n",
    "end"
   ]
  },
  {
   "cell_type": "code",
   "execution_count": 77,
   "metadata": {},
   "outputs": [
    {
     "name": "stdout",
     "output_type": "stream",
     "text": [
      "Set parameter Username\n",
      "Academic license - for non-commercial use only - expires 2023-11-04\n",
      "Set parameter Method to value 0\n",
      "[0.0 0.0 1.0 0.0 0.0; 0.0 0.0 0.0 0.0 0.0; 0.0 0.0 0.0 0.0 1.0; 0.0 0.0 0.0 0.0 0.0; 0.0 0.0 0.0 0.0 0.0]"
     ]
    }
   ],
   "source": [
    "# empty model\n",
    "master_model = Model(solver)\n",
    "\n",
    "# empty model is initialized\n",
    "create_master(master_model)\n",
    "\n",
    "optimize!(master_model)\n",
    "q = value.(master_model[:x])\n",
    "print(q)\n",
    "#print(master_model)\n",
    "#solution_summary(master_model)\n"
   ]
  },
  {
   "cell_type": "markdown",
   "metadata": {},
   "source": [
    "Dynamic Programming method"
   ]
  },
  {
   "cell_type": "code",
   "execution_count": 69,
   "metadata": {},
   "outputs": [
    {
     "name": "stdout",
     "output_type": "stream",
     "text": [
      "2.703496384436228"
     ]
    }
   ],
   "source": [
    "\n",
    "n = 10\n",
    "a = zero(rand(n))\n",
    "a[1] = 1\n",
    "a[n] = -1\n",
    "#print(a)\n",
    "q = rand(n*n)\n",
    "q = collect(reshape(q, n, n))*10\n",
    "print(q[5,5])\n"
   ]
  }
 ],
 "metadata": {
  "kernelspec": {
   "display_name": "Julia 1.7.2",
   "language": "julia",
   "name": "julia-1.7"
  },
  "language_info": {
   "file_extension": ".jl",
   "mimetype": "application/julia",
   "name": "julia",
   "version": "1.7.2"
  },
  "orig_nbformat": 4
 },
 "nbformat": 4,
 "nbformat_minor": 2
}

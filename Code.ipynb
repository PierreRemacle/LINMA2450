{
 "cells": [
  {
   "cell_type": "code",
   "execution_count": 62,
   "metadata": {},
   "outputs": [
    {
     "name": "stdout",
     "output_type": "stream",
     "text": [
      "50"
     ]
    },
    {
     "data": {
      "text/plain": [
       "create_master (generic function with 1 method)"
      ]
     },
     "execution_count": 62,
     "metadata": {},
     "output_type": "execute_result"
    }
   ],
   "source": [
    "using JuMP, Gurobi\n",
    "solver = optimizer_with_attributes(() -> Gurobi.Optimizer(), \"OutputFlag\" => 0, \"Method\" => 0)\n",
    "#w = [4,6,5,7,3,1,6]#par exemple, normalement une matirce de dim nxn des poids\n",
    "n=5\n",
    "w = rand((n,n))*10\n",
    "a = zero(rand(n))\n",
    "print(w)\n",
    "\n",
    "function create_master(model::Model)\n",
    "    @variable(model, x[1:n, 1:n], Bin)\n",
    "    \n",
    "    a[1] = 1\n",
    "    a[n] = -1\n",
    "    \n",
    "    @constraint(model,[i=1:n],sum(x[i,j] -x[j,i] for j in 1:n) == a[i])\n",
    "    \n",
    "    @constraint(model,[i=1:n],sum(x[i,j] for j in 1:n) <= 1)\n",
    "    \n",
    "    @objective(model, Min, sum(sum( w[i,j] * x[i,j] for j in 1:n) for i in 1:n) ) #l'erreur dient d'ici\n",
    "    print(\"ici\")\n",
    "    \n",
    "end"
   ]
  },
  {
   "cell_type": "code",
   "execution_count": 61,
   "metadata": {},
   "outputs": [
    {
     "name": "stdout",
     "output_type": "stream",
     "text": [
      "Set parameter Username\n",
      "Academic license - for non-commercial use only - expires 2023-11-04\n"
     ]
    },
    {
     "ename": "LoadError",
     "evalue": "BoundsError",
     "output_type": "error",
     "traceback": [
      "BoundsError",
      "",
      "Stacktrace:",
      " [1] getindex(::Int64, ::Int64, ::Int64)",
      "   @ Base ./number.jl:103",
      " [2] macro expansion",
      "   @ ~/.julia/packages/MutableArithmetics/maUDe/src/rewrite.jl:294 [inlined]",
      " [3] macro expansion",
      "   @ ~/.julia/packages/JuMP/Z1pVn/src/macros.jl:1280 [inlined]",
      " [4] create_master(model::Model)",
      "   @ Main ./In[60]:18",
      " [5] top-level scope",
      "   @ In[61]:5",
      " [6] eval",
      "   @ ./boot.jl:373 [inlined]",
      " [7] include_string(mapexpr::typeof(REPL.softscope), mod::Module, code::String, filename::String)",
      "   @ Base ./loading.jl:1196"
     ]
    }
   ],
   "source": [
    "# empty model\n",
    "master_model = Model(solver)\n",
    "\n",
    "# empty model is initialized\n",
    "create_master(master_model)\n",
    "\n",
    "#optimize!(master_model)\n",
    "#q = value.(master_model[:x])\n",
    "#print(q)\n",
    "#print(master_model)\n",
    "#solution_summary(master_model)\n"
   ]
  },
  {
   "cell_type": "markdown",
   "metadata": {},
   "source": [
    "Dynamic Programming method"
   ]
  },
  {
   "cell_type": "code",
   "execution_count": 65,
   "metadata": {},
   "outputs": [
    {
     "name": "stdout",
     "output_type": "stream",
     "text": [
      "100"
     ]
    }
   ],
   "source": [
    "\n",
    "n = 10\n",
    "a = zero(rand(n))\n",
    "a[1] = 1\n",
    "a[n] = -1\n",
    "#print(a)\n",
    "print(rand((n,n))*10)\n"
   ]
  }
 ],
 "metadata": {
  "kernelspec": {
   "display_name": "Julia 1.7.2",
   "language": "julia",
   "name": "julia-1.7"
  },
  "language_info": {
   "file_extension": ".jl",
   "mimetype": "application/julia",
   "name": "julia",
   "version": "1.7.2"
  },
  "orig_nbformat": 4
 },
 "nbformat": 4,
 "nbformat_minor": 2
}

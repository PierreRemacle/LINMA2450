{
 "cells": [
  {
   "cell_type": "code",
   "execution_count": 84,
   "metadata": {},
   "outputs": [
    {
     "data": {
      "text/plain": [
       "MathOptInterface.OptimizerWithAttributes(var\"#149#150\"(), Pair{MathOptInterface.AbstractOptimizerAttribute, Any}[MathOptInterface.RawOptimizerAttribute(\"OutputFlag\") => 0, MathOptInterface.RawOptimizerAttribute(\"Method\") => 0])"
      ]
     },
     "execution_count": 84,
     "metadata": {},
     "output_type": "execute_result"
    }
   ],
   "source": [
    "using JuMP, Gurobi\n",
    "solver = optimizer_with_attributes(() -> Gurobi.Optimizer(), \"OutputFlag\" => 0, \"Method\" => 0)\n",
    "\n"
   ]
  },
  {
   "cell_type": "code",
   "execution_count": 85,
   "metadata": {},
   "outputs": [
    {
     "name": "stdout",
     "output_type": "stream",
     "text": [
      "---weight--\n",
      "Dict{String, Any}(\"4\" => 10, \"2\" => 1, \"3\" => 5)\n",
      "---From--\n",
      "Any[\"2\", \"3\", \"4\"]\n",
      "---To--\n",
      "Any[]\n",
      "10\n"
     ]
    }
   ],
   "source": [
    "using JuMP,Gurobi ,GLPK, JSON,Pkg , Gurobi\n",
    "model = Model(GLPK.Optimizer)\n",
    "dict = Dict()\n",
    "dict = JSON.parsefile(\"small.json\")\n",
    "\n",
    "\n",
    "println(\"---weight--\")\n",
    "println(dict[\"weight\"][\"1\"])\n",
    "println(\"---From--\")\n",
    "println(dict[\"From\"][\"1\"])\n",
    "println(\"---To--\")\n",
    "println(dict[\"To\"][\"1\"])\n",
    "println(dict[\"t\"])\n",
    "\n"
   ]
  },
  {
   "cell_type": "code",
   "execution_count": 86,
   "metadata": {},
   "outputs": [
    {
     "name": "stdout",
     "output_type": "stream",
     "text": [
      "10"
     ]
    }
   ],
   "source": [
    "size = length(dict[\"weight\"])\n",
    "matrix = zeros(size , size)\n",
    "matrix[3,3]=6\n",
    "print(size)\n",
    "for i in dict[\"N\"]\n",
    "    #display(dict[\"weight\"][i])\n",
    "end"
   ]
  },
  {
   "cell_type": "code",
   "execution_count": 87,
   "metadata": {},
   "outputs": [
    {
     "data": {
      "text/plain": [
       "10×10 Matrix{Int64}:\n",
       " 0  1  5  10  0  0  0  0  0   0\n",
       " 0  0  1   0  0  0  0  0  0   0\n",
       " 0  0  0   0  0  0  1  0  0   0\n",
       " 0  0  0   0  0  1  5  0  0   0\n",
       " 0  0  1   0  0  0  0  6  0   0\n",
       " 0  0  0   0  1  0  0  0  0  10\n",
       " 0  0  0   0  0  0  0  0  1   0\n",
       " 0  0  0   0  0  0  0  0  0   2\n",
       " 0  0  0   0  0  0  0  1  0   5\n",
       " 0  0  0   0  0  0  0  0  0   0"
      ]
     },
     "metadata": {},
     "output_type": "display_data"
    }
   ],
   "source": [
    "\n",
    "\n",
    "#set_optimizer_attribute(model, \"Presolve\", 0)\n",
    "#set_optimizer_attribute(model, \"Heuristics\",0)\n",
    "#set_optimizer_attribute(model, \"Cuts\", 0)\n",
    "size = length(dict[\"N\"])\n",
    "matrix = zeros(Int64,size , size)\n",
    "b=zeros(size)\n",
    "\n",
    "#print(\"\\n\")\n",
    "b[parse(Int,dict[\"s\"])] = 1\n",
    "b[parse(Int,dict[\"t\"])] = -1\n",
    "\n",
    "#print(matrix[10,:])\n",
    "\n",
    "for i in dict[\"N\"]\n",
    "    from = dict[\"From\"][i]\n",
    "    to = dict[\"To\"][i]\n",
    "    for j in from\n",
    "        matrix[(parse(Int64,i)),parse(Int64,j)]=dict[\"weight\"][i][j]\n",
    "    end\n",
    "end\n",
    "display(matrix)"
   ]
  },
  {
   "cell_type": "code",
   "execution_count": 90,
   "metadata": {},
   "outputs": [
    {
     "data": {
      "text/plain": [
       "create_master (generic function with 1 method)"
      ]
     },
     "execution_count": 90,
     "metadata": {},
     "output_type": "execute_result"
    }
   ],
   "source": [
    "\n",
    "\n",
    "n = size\n",
    "a = zero(rand(n))\n",
    "\n",
    "function create_master(model::Model)\n",
    "    @variable(model, x[1:n, 1:n], Bin)\n",
    "    \n",
    "    a[1] = 1\n",
    "    a[n] = -1\n",
    "    for i in 1:size \n",
    "        for j in 1:size\n",
    "            if matrix[i,j] == 0\n",
    "                @constraint(model,x[i,j] == 0)\n",
    "            end\n",
    "        end\n",
    "    end\n",
    "\n",
    "    @constraint(model,[i=1:n],sum(x[i,j] -x[j,i] for j in 1:n) == a[i])\n",
    "    \n",
    "    @constraint(model,[i=1:n],sum(x[i,j] for j in 1:n) <= 1)\n",
    "    \n",
    "    @objective(model, Min, sum(sum( matrix[i,j] * x[i,j] for j in 1:n) for i in 1:n) ) #l'erreur dient d'ici\n",
    "    \n",
    "    \n",
    "end"
   ]
  },
  {
   "cell_type": "code",
   "execution_count": 129,
   "metadata": {},
   "outputs": [
    {
     "name": "stdout",
     "output_type": "stream",
     "text": [
      "Set parameter Username\n",
      "Academic license - for non-commercial use only - expires 2023-11-04\n",
      "Set parameter Method to value 0\n",
      "[0.0 1.0 0.0 0.0 0.0 0.0 0.0 0.0 0.0 0.0; 0.0 0.0 1.0 0.0 0.0 0.0 0.0 0.0 0.0 0.0; 0.0 0.0 0.0 0.0 0.0 0.0 1.0 0.0 0.0 0.0; 0.0 0.0 0.0 0.0 0.0 0.0 0.0 0.0 0.0 0.0; 0.0 0.0 0.0 0.0 0.0 0.0 0.0 0.0 0.0 0.0; 0.0 0.0 0.0 0.0 0.0 0.0 0.0 0.0 0.0 0.0; 0.0 0.0 0.0 0.0 0.0 0.0 0.0 0.0 1.0 0.0; 0.0 0.0 0.0 0.0 0.0 0.0 0.0 0.0 0.0 1.0; 0.0 0.0 0.0 0.0 0.0 0.0 0.0 1.0 0.0 0.0; 0.0 0.0 0.0 0.0 0.0 0.0 0.0 0.0 0.0 0.0]"
     ]
    },
    {
     "data": {
      "text/plain": [
       "* Solver : Gurobi\n",
       "\n",
       "* Status\n",
       "  Termination status : OPTIMAL\n",
       "  Primal status      : FEASIBLE_POINT\n",
       "  Dual status        : NO_SOLUTION\n",
       "  Message from the solver:\n",
       "  \"Model was solved to optimality (subject to tolerances), and an optimal solution is available.\"\n",
       "\n",
       "* Candidate solution\n",
       "  Objective value      : 7.00000e+00\n",
       "  Objective bound      : 7.00000e+00\n",
       "  Relative gap         : 0.00000e+00\n",
       "  Dual objective value : 7.00000e+00\n",
       "\n",
       "* Work counters\n",
       "  Solve time (sec)   : 5.07998e-03\n",
       "  Barrier iterations : 0\n",
       "  Node count         : 0\n"
      ]
     },
     "execution_count": 129,
     "metadata": {},
     "output_type": "execute_result"
    }
   ],
   "source": [
    "# empty model\n",
    "master_model = Model(solver)\n",
    "\n",
    "# empty model is initialized\n",
    "create_master(master_model)\n",
    "\n",
    "optimize!(master_model)\n",
    "q = value.(master_model[:x])\n",
    "print(q)\n",
    "#print(master_model)\n",
    "solution_summary(master_model)\n"
   ]
  },
  {
   "cell_type": "markdown",
   "metadata": {},
   "source": [
    "Dynamic Programming method"
   ]
  },
  {
   "cell_type": "code",
   "execution_count": 127,
   "metadata": {},
   "outputs": [
    {
     "data": {
      "image/svg+xml": "<?xml version=\"1.0\" encoding=\"utf-8\"?>\n<svg xmlns=\"http://www.w3.org/2000/svg\" xmlns:xlink=\"http://www.w3.org/1999/xlink\" width=\"600\" height=\"400\" viewBox=\"0 0 2400 1600\">\n<defs>\n  <clipPath id=\"clip360\">\n    <rect x=\"0\" y=\"0\" width=\"2400\" height=\"1600\"/>\n  </clipPath>\n</defs>\n<path clip-path=\"url(#clip360)\" d=\"\nM0 1600 L2400 1600 L2400 0 L0 0  Z\n  \" fill=\"#ffffff\" fill-rule=\"evenodd\" fill-opacity=\"1\"/>\n<defs>\n  <clipPath id=\"clip361\">\n    <rect x=\"480\" y=\"0\" width=\"1681\" height=\"1600\"/>\n  </clipPath>\n</defs>\n<path clip-path=\"url(#clip360)\" d=\"\nM447.244 1552.76 L1952.76 1552.76 L1952.76 47.2441 L447.244 47.2441  Z\n  \" fill=\"#ffffff\" fill-rule=\"evenodd\" fill-opacity=\"1\"/>\n<defs>\n  <clipPath id=\"clip362\">\n    <rect x=\"447\" y=\"47\" width=\"1507\" height=\"1507\"/>\n  </clipPath>\n</defs>\n<polyline clip-path=\"url(#clip362)\" style=\"stroke:#000000; stroke-linecap:round; stroke-linejoin:round; stroke-width:4; stroke-opacity:1; fill:none\" points=\"\n  1737.68,944.306 1648.26,1319.06 \n  \"/>\n<polyline clip-path=\"url(#clip362)\" style=\"stroke:#000000; stroke-linecap:round; stroke-linejoin:round; stroke-width:4; stroke-opacity:1; fill:none\" points=\"\n  1674.12,1288.22 1648.26,1319.06 1639.1,1279.86 \n  \"/>\n<polyline clip-path=\"url(#clip362)\" style=\"stroke:#000000; stroke-linecap:round; stroke-linejoin:round; stroke-width:4; stroke-opacity:1; fill:none\" points=\"\n  1648.26,1319.06 1737.68,944.306 \n  \"/>\n<polyline clip-path=\"url(#clip362)\" style=\"stroke:#000000; stroke-linecap:round; stroke-linejoin:round; stroke-width:4; stroke-opacity:1; fill:none\" points=\"\n  1737.68,944.306 1387.99,1021.02 \n  \"/>\n<polyline clip-path=\"url(#clip362)\" style=\"stroke:#000000; stroke-linecap:round; stroke-linejoin:round; stroke-width:4; stroke-opacity:1; fill:none\" points=\"\n  1427.01,1030.89 1387.99,1021.02 1419.3,995.727 \n  \"/>\n<polyline clip-path=\"url(#clip362)\" style=\"stroke:#000000; stroke-linecap:round; stroke-linejoin:round; stroke-width:4; stroke-opacity:1; fill:none\" points=\"\n  1387.99,1021.02 1737.68,944.306 \n  \"/>\n<polyline clip-path=\"url(#clip362)\" style=\"stroke:#000000; stroke-linecap:round; stroke-linejoin:round; stroke-width:4; stroke-opacity:1; fill:none\" points=\"\n  1737.68,944.306 1565.79,562.73 \n  \"/>\n<polyline clip-path=\"url(#clip362)\" style=\"stroke:#000000; stroke-linecap:round; stroke-linejoin:round; stroke-width:4; stroke-opacity:1; fill:none\" points=\"\n  1564.16,602.947 1565.79,562.73 1596.99,588.16 \n  \"/>\n<polyline clip-path=\"url(#clip362)\" style=\"stroke:#000000; stroke-linecap:round; stroke-linejoin:round; stroke-width:4; stroke-opacity:1; fill:none\" points=\"\n  1565.79,562.73 1737.68,944.306 \n  \"/>\n<polyline clip-path=\"url(#clip362)\" style=\"stroke:#000000; stroke-linecap:round; stroke-linejoin:round; stroke-width:4; stroke-opacity:1; fill:none\" points=\"\n  1637.9,1337.68 1376.45,1038.06 \n  \"/>\n<polyline clip-path=\"url(#clip362)\" style=\"stroke:#000000; stroke-linecap:round; stroke-linejoin:round; stroke-width:4; stroke-opacity:1; fill:none\" points=\"\n  1386.56,1077.02 1376.45,1038.06 1413.69,1053.35 \n  \"/>\n<polyline clip-path=\"url(#clip362)\" style=\"stroke:#000000; stroke-linecap:round; stroke-linejoin:round; stroke-width:4; stroke-opacity:1; fill:none\" points=\"\n  1376.45,1038.06 1637.9,1337.68 \n  \"/>\n<polyline clip-path=\"url(#clip362)\" style=\"stroke:#000000; stroke-linecap:round; stroke-linejoin:round; stroke-width:4; stroke-opacity:1; fill:none\" points=\"\n  1367.4,1019.43 1312.29,471.409 \n  \"/>\n<polyline clip-path=\"url(#clip362)\" style=\"stroke:#000000; stroke-linecap:round; stroke-linejoin:round; stroke-width:4; stroke-opacity:1; fill:none\" points=\"\n  1297.98,509.03 1312.29,471.409 1333.8,505.427 \n  \"/>\n<polyline clip-path=\"url(#clip362)\" style=\"stroke:#000000; stroke-linecap:round; stroke-linejoin:round; stroke-width:4; stroke-opacity:1; fill:none\" points=\"\n  1312.29,471.409 1367.4,1019.43 \n  \"/>\n<polyline clip-path=\"url(#clip362)\" style=\"stroke:#000000; stroke-linecap:round; stroke-linejoin:round; stroke-width:4; stroke-opacity:1; fill:none\" points=\"\n  1562.57,544.104 1088.52,631.992 \n  \"/>\n<polyline clip-path=\"url(#clip362)\" style=\"stroke:#000000; stroke-linecap:round; stroke-linejoin:round; stroke-width:4; stroke-opacity:1; fill:none\" points=\"\n  1127.2,643.128 1088.52,631.992 1120.63,607.731 \n  \"/>\n<polyline clip-path=\"url(#clip362)\" style=\"stroke:#000000; stroke-linecap:round; stroke-linejoin:round; stroke-width:4; stroke-opacity:1; fill:none\" points=\"\n  1088.52,631.992 1562.57,544.104 \n  \"/>\n<polyline clip-path=\"url(#clip362)\" style=\"stroke:#000000; stroke-linecap:round; stroke-linejoin:round; stroke-width:4; stroke-opacity:1; fill:none\" points=\"\n  1562.57,544.104 1328.13,465.606 \n  \"/>\n<polyline clip-path=\"url(#clip362)\" style=\"stroke:#000000; stroke-linecap:round; stroke-linejoin:round; stroke-width:4; stroke-opacity:1; fill:none\" points=\"\n  1356.55,494.105 1328.13,465.606 1367.98,459.968 \n  \"/>\n<polyline clip-path=\"url(#clip362)\" style=\"stroke:#000000; stroke-linecap:round; stroke-linejoin:round; stroke-width:4; stroke-opacity:1; fill:none\" points=\"\n  1328.13,465.606 1562.57,544.104 \n  \"/>\n<polyline clip-path=\"url(#clip362)\" style=\"stroke:#000000; stroke-linecap:round; stroke-linejoin:round; stroke-width:4; stroke-opacity:1; fill:none\" points=\"\n  968.245,1047.72 1348.06,1015.68 \n  \"/>\n<polyline clip-path=\"url(#clip362)\" style=\"stroke:#000000; stroke-linecap:round; stroke-linejoin:round; stroke-width:4; stroke-opacity:1; fill:none\" points=\"\n  1310.68,1000.77 1348.06,1015.68 1313.7,1036.64 \n  \"/>\n<polyline clip-path=\"url(#clip362)\" style=\"stroke:#000000; stroke-linecap:round; stroke-linejoin:round; stroke-width:4; stroke-opacity:1; fill:none\" points=\"\n  1348.06,1015.68 968.245,1047.72 \n  \"/>\n<polyline clip-path=\"url(#clip362)\" style=\"stroke:#000000; stroke-linecap:round; stroke-linejoin:round; stroke-width:4; stroke-opacity:1; fill:none\" points=\"\n  968.245,1047.72 673.094,746.99 \n  \"/>\n<polyline clip-path=\"url(#clip362)\" style=\"stroke:#000000; stroke-linecap:round; stroke-linejoin:round; stroke-width:4; stroke-opacity:1; fill:none\" points=\"\n  685.464,785.291 673.094,746.99 711.157,760.075 \n  \"/>\n<polyline clip-path=\"url(#clip362)\" style=\"stroke:#000000; stroke-linecap:round; stroke-linejoin:round; stroke-width:4; stroke-opacity:1; fill:none\" points=\"\n  673.094,746.99 968.245,1047.72 \n  \"/>\n<polyline clip-path=\"url(#clip362)\" style=\"stroke:#000000; stroke-linecap:round; stroke-linejoin:round; stroke-width:4; stroke-opacity:1; fill:none\" points=\"\n  1067.45,631.221 968.017,1029.09 \n  \"/>\n<polyline clip-path=\"url(#clip362)\" style=\"stroke:#000000; stroke-linecap:round; stroke-linejoin:round; stroke-width:4; stroke-opacity:1; fill:none\" points=\"\n  994.208,998.528 968.017,1029.09 959.283,989.799 \n  \"/>\n<polyline clip-path=\"url(#clip362)\" style=\"stroke:#000000; stroke-linecap:round; stroke-linejoin:round; stroke-width:4; stroke-opacity:1; fill:none\" points=\"\n  968.017,1029.09 1067.45,631.221 \n  \"/>\n<polyline clip-path=\"url(#clip362)\" style=\"stroke:#000000; stroke-linecap:round; stroke-linejoin:round; stroke-width:4; stroke-opacity:1; fill:none\" points=\"\n  1067.45,631.221 682.992,377.653 \n  \"/>\n<polyline clip-path=\"url(#clip362)\" style=\"stroke:#000000; stroke-linecap:round; stroke-linejoin:round; stroke-width:4; stroke-opacity:1; fill:none\" points=\"\n  703.134,412.5 682.992,377.653 722.955,382.448 \n  \"/>\n<polyline clip-path=\"url(#clip362)\" style=\"stroke:#000000; stroke-linecap:round; stroke-linejoin:round; stroke-width:4; stroke-opacity:1; fill:none\" points=\"\n  682.992,377.653 1067.45,631.221 \n  \"/>\n<polyline clip-path=\"url(#clip362)\" style=\"stroke:#000000; stroke-linecap:round; stroke-linejoin:round; stroke-width:4; stroke-opacity:1; fill:none\" points=\"\n  1314.02,452.783 953.365,274.846 \n  \"/>\n<polyline clip-path=\"url(#clip362)\" style=\"stroke:#000000; stroke-linecap:round; stroke-linejoin:round; stroke-width:4; stroke-opacity:1; fill:none\" points=\"\n  977.685,306.916 953.365,274.846 993.614,274.632 \n  \"/>\n<polyline clip-path=\"url(#clip362)\" style=\"stroke:#000000; stroke-linecap:round; stroke-linejoin:round; stroke-width:4; stroke-opacity:1; fill:none\" points=\"\n  953.365,274.846 1314.02,452.783 \n  \"/>\n<polyline clip-path=\"url(#clip362)\" style=\"stroke:#000000; stroke-linecap:round; stroke-linejoin:round; stroke-width:4; stroke-opacity:1; fill:none\" points=\"\n  662.317,728.404 674.719,382.165 \n  \"/>\n<polyline clip-path=\"url(#clip362)\" style=\"stroke:#000000; stroke-linecap:round; stroke-linejoin:round; stroke-width:4; stroke-opacity:1; fill:none\" points=\"\n  655.442,417.498 674.719,382.165 691.418,418.786 \n  \"/>\n<polyline clip-path=\"url(#clip362)\" style=\"stroke:#000000; stroke-linecap:round; stroke-linejoin:round; stroke-width:4; stroke-opacity:1; fill:none\" points=\"\n  674.719,382.165 662.317,728.404 \n  \"/>\n<polyline clip-path=\"url(#clip362)\" style=\"stroke:#000000; stroke-linecap:round; stroke-linejoin:round; stroke-width:4; stroke-opacity:1; fill:none\" points=\"\n  939.091,262.317 668.906,709.778 \n  \"/>\n<polyline clip-path=\"url(#clip362)\" style=\"stroke:#000000; stroke-linecap:round; stroke-linejoin:round; stroke-width:4; stroke-opacity:1; fill:none\" points=\"\n  702.924,688.265 668.906,709.778 672.106,669.656 \n  \"/>\n<polyline clip-path=\"url(#clip362)\" style=\"stroke:#000000; stroke-linecap:round; stroke-linejoin:round; stroke-width:4; stroke-opacity:1; fill:none\" points=\"\n  668.906,709.778 939.091,262.317 \n  \"/>\n<polyline clip-path=\"url(#clip362)\" style=\"stroke:#000000; stroke-linecap:round; stroke-linejoin:round; stroke-width:4; stroke-opacity:1; fill:none\" points=\"\n  939.091,262.317 691.119,363.5 \n  \"/>\n<polyline clip-path=\"url(#clip362)\" style=\"stroke:#000000; stroke-linecap:round; stroke-linejoin:round; stroke-width:4; stroke-opacity:1; fill:none\" points=\"\n  731.251,366.565 691.119,363.5 717.65,333.234 \n  \"/>\n<polyline clip-path=\"url(#clip362)\" style=\"stroke:#000000; stroke-linecap:round; stroke-linejoin:round; stroke-width:4; stroke-opacity:1; fill:none\" points=\"\n  691.119,363.5 939.091,262.317 \n  \"/>\n<path clip-path=\"url(#clip362)\" d=\"\nM1759.19 944.306 L1748.44 925.681 L1726.93 925.681 L1716.18 944.306 L1726.93 962.932 L1748.44 962.932 L1759.19 944.306 L1759.19 944.306  Z\n  \" fill=\"#009af9\" fill-rule=\"evenodd\" fill-opacity=\"1\"/>\n<polyline clip-path=\"url(#clip362)\" style=\"stroke:#000000; stroke-linecap:round; stroke-linejoin:round; stroke-width:4; stroke-opacity:1; fill:none\" points=\"\n  1759.19,944.306 1748.44,925.681 1726.93,925.681 1716.18,944.306 1726.93,962.932 1748.44,962.932 1759.19,944.306 \n  \"/>\n<path clip-path=\"url(#clip362)\" d=\"\nM1659.41 1337.68 L1648.65 1319.06 L1627.15 1319.06 L1616.39 1337.68 L1627.15 1356.31 L1648.65 1356.31 L1659.41 1337.68 L1659.41 1337.68  Z\n  \" fill=\"#009af9\" fill-rule=\"evenodd\" fill-opacity=\"1\"/>\n<polyline clip-path=\"url(#clip362)\" style=\"stroke:#000000; stroke-linecap:round; stroke-linejoin:round; stroke-width:4; stroke-opacity:1; fill:none\" points=\"\n  1659.41,1337.68 1648.65,1319.06 1627.15,1319.06 1616.39,1337.68 1627.15,1356.31 1648.65,1356.31 1659.41,1337.68 \n  \"/>\n<path clip-path=\"url(#clip362)\" d=\"\nM1388.91 1019.43 L1378.15 1000.81 L1356.65 1000.81 L1345.89 1019.43 L1356.65 1038.06 L1378.15 1038.06 L1388.91 1019.43 L1388.91 1019.43  Z\n  \" fill=\"#009af9\" fill-rule=\"evenodd\" fill-opacity=\"1\"/>\n<polyline clip-path=\"url(#clip362)\" style=\"stroke:#000000; stroke-linecap:round; stroke-linejoin:round; stroke-width:4; stroke-opacity:1; fill:none\" points=\"\n  1388.91,1019.43 1378.15,1000.81 1356.65,1000.81 1345.89,1019.43 1356.65,1038.06 1378.15,1038.06 1388.91,1019.43 \n  \"/>\n<path clip-path=\"url(#clip362)\" d=\"\nM1584.08 544.104 L1573.33 525.478 L1551.82 525.478 L1541.06 544.104 L1551.82 562.73 L1573.33 562.73 L1584.08 544.104 L1584.08 544.104  Z\n  \" fill=\"#009af9\" fill-rule=\"evenodd\" fill-opacity=\"1\"/>\n<polyline clip-path=\"url(#clip362)\" style=\"stroke:#000000; stroke-linecap:round; stroke-linejoin:round; stroke-width:4; stroke-opacity:1; fill:none\" points=\"\n  1584.08,544.104 1573.33,525.478 1551.82,525.478 1541.06,544.104 1551.82,562.73 1573.33,562.73 1584.08,544.104 \n  \"/>\n<path clip-path=\"url(#clip362)\" d=\"\nM989.752 1047.72 L978.998 1029.09 L957.491 1029.09 L946.737 1047.72 L957.491 1066.34 L978.998 1066.34 L989.752 1047.72 L989.752 1047.72  Z\n  \" fill=\"#009af9\" fill-rule=\"evenodd\" fill-opacity=\"1\"/>\n<polyline clip-path=\"url(#clip362)\" style=\"stroke:#000000; stroke-linecap:round; stroke-linejoin:round; stroke-width:4; stroke-opacity:1; fill:none\" points=\"\n  989.752,1047.72 978.998,1029.09 957.491,1029.09 946.737,1047.72 957.491,1066.34 978.998,1066.34 989.752,1047.72 \n  \"/>\n<path clip-path=\"url(#clip362)\" d=\"\nM1088.96 631.221 L1078.21 612.595 L1056.7 612.595 L1045.95 631.221 L1056.7 649.847 L1078.21 649.847 L1088.96 631.221 L1088.96 631.221  Z\n  \" fill=\"#009af9\" fill-rule=\"evenodd\" fill-opacity=\"1\"/>\n<polyline clip-path=\"url(#clip362)\" style=\"stroke:#000000; stroke-linecap:round; stroke-linejoin:round; stroke-width:4; stroke-opacity:1; fill:none\" points=\"\n  1088.96,631.221 1078.21,612.595 1056.7,612.595 1045.95,631.221 1056.7,649.847 1078.21,649.847 1088.96,631.221 \n  \"/>\n<path clip-path=\"url(#clip362)\" d=\"\nM1335.53 452.783 L1324.78 434.157 L1303.27 434.157 L1292.52 452.783 L1303.27 471.409 L1324.78 471.409 L1335.53 452.783 L1335.53 452.783  Z\n  \" fill=\"#009af9\" fill-rule=\"evenodd\" fill-opacity=\"1\"/>\n<polyline clip-path=\"url(#clip362)\" style=\"stroke:#000000; stroke-linecap:round; stroke-linejoin:round; stroke-width:4; stroke-opacity:1; fill:none\" points=\"\n  1335.53,452.783 1324.78,434.157 1303.27,434.157 1292.52,452.783 1303.27,471.409 1324.78,471.409 1335.53,452.783 \n  \"/>\n<path clip-path=\"url(#clip362)\" d=\"\nM683.825 728.404 L673.071 709.778 L651.564 709.778 L640.81 728.404 L651.564 747.03 L673.071 747.03 L683.825 728.404 L683.825 728.404  Z\n  \" fill=\"#009af9\" fill-rule=\"evenodd\" fill-opacity=\"1\"/>\n<polyline clip-path=\"url(#clip362)\" style=\"stroke:#000000; stroke-linecap:round; stroke-linejoin:round; stroke-width:4; stroke-opacity:1; fill:none\" points=\"\n  683.825,728.404 673.071,709.778 651.564,709.778 640.81,728.404 651.564,747.03 673.071,747.03 683.825,728.404 \n  \"/>\n<path clip-path=\"url(#clip362)\" d=\"\nM960.598 262.317 L949.845 243.691 L928.337 243.691 L917.584 262.317 L928.337 280.943 L949.845 280.943 L960.598 262.317 L960.598 262.317  Z\n  \" fill=\"#009af9\" fill-rule=\"evenodd\" fill-opacity=\"1\"/>\n<polyline clip-path=\"url(#clip362)\" style=\"stroke:#000000; stroke-linecap:round; stroke-linejoin:round; stroke-width:4; stroke-opacity:1; fill:none\" points=\"\n  960.598,262.317 949.845,243.691 928.337,243.691 917.584,262.317 928.337,280.943 949.845,280.943 960.598,262.317 \n  \"/>\n<path clip-path=\"url(#clip362)\" d=\"\nM691.141 363.539 L680.387 344.913 L658.88 344.913 L648.126 363.539 L658.88 382.165 L680.387 382.165 L691.141 363.539 L691.141 363.539  Z\n  \" fill=\"#009af9\" fill-rule=\"evenodd\" fill-opacity=\"1\"/>\n<polyline clip-path=\"url(#clip362)\" style=\"stroke:#000000; stroke-linecap:round; stroke-linejoin:round; stroke-width:4; stroke-opacity:1; fill:none\" points=\"\n  691.141,363.539 680.387,344.913 658.88,344.913 648.126,363.539 658.88,382.165 680.387,382.165 691.141,363.539 \n  \"/>\n<path clip-path=\"url(#clip362)\" d=\"M1737.68 944.706 L1737.34 944.506 L1737.34 944.106 L1737.68 943.906 L1738.03 944.106 L1738.03 944.506 Z\" fill=\"#009af9\" fill-rule=\"evenodd\" fill-opacity=\"1\" stroke=\"#000000\" stroke-opacity=\"1\" stroke-width=\"3.2\"/>\n<path clip-path=\"url(#clip362)\" d=\"M1637.9 1338.08 L1637.55 1337.88 L1637.55 1337.48 L1637.9 1337.28 L1638.25 1337.48 L1638.25 1337.88 Z\" fill=\"#009af9\" fill-rule=\"evenodd\" fill-opacity=\"1\" stroke=\"#000000\" stroke-opacity=\"1\" stroke-width=\"3.2\"/>\n<path clip-path=\"url(#clip362)\" d=\"M1367.4 1019.83 L1367.05 1019.63 L1367.05 1019.23 L1367.4 1019.03 L1367.75 1019.23 L1367.75 1019.63 Z\" fill=\"#009af9\" fill-rule=\"evenodd\" fill-opacity=\"1\" stroke=\"#000000\" stroke-opacity=\"1\" stroke-width=\"3.2\"/>\n<path clip-path=\"url(#clip362)\" d=\"M1562.57 544.504 L1562.23 544.304 L1562.23 543.904 L1562.57 543.704 L1562.92 543.904 L1562.92 544.304 Z\" fill=\"#009af9\" fill-rule=\"evenodd\" fill-opacity=\"1\" stroke=\"#000000\" stroke-opacity=\"1\" stroke-width=\"3.2\"/>\n<path clip-path=\"url(#clip362)\" d=\"M968.245 1048.12 L967.898 1047.92 L967.898 1047.52 L968.245 1047.32 L968.591 1047.52 L968.591 1047.92 Z\" fill=\"#009af9\" fill-rule=\"evenodd\" fill-opacity=\"1\" stroke=\"#000000\" stroke-opacity=\"1\" stroke-width=\"3.2\"/>\n<path clip-path=\"url(#clip362)\" d=\"M1067.45 631.621 L1067.11 631.421 L1067.11 631.021 L1067.45 630.821 L1067.8 631.021 L1067.8 631.421 Z\" fill=\"#009af9\" fill-rule=\"evenodd\" fill-opacity=\"1\" stroke=\"#000000\" stroke-opacity=\"1\" stroke-width=\"3.2\"/>\n<path clip-path=\"url(#clip362)\" d=\"M1314.02 453.183 L1313.68 452.983 L1313.68 452.583 L1314.02 452.383 L1314.37 452.583 L1314.37 452.983 Z\" fill=\"#009af9\" fill-rule=\"evenodd\" fill-opacity=\"1\" stroke=\"#000000\" stroke-opacity=\"1\" stroke-width=\"3.2\"/>\n<path clip-path=\"url(#clip362)\" d=\"M662.317 728.804 L661.971 728.604 L661.971 728.204 L662.317 728.004 L662.664 728.204 L662.664 728.604 Z\" fill=\"#009af9\" fill-rule=\"evenodd\" fill-opacity=\"1\" stroke=\"#000000\" stroke-opacity=\"1\" stroke-width=\"3.2\"/>\n<path clip-path=\"url(#clip362)\" d=\"M939.091 262.717 L938.745 262.517 L938.745 262.117 L939.091 261.917 L939.437 262.117 L939.437 262.517 Z\" fill=\"#009af9\" fill-rule=\"evenodd\" fill-opacity=\"1\" stroke=\"#000000\" stroke-opacity=\"1\" stroke-width=\"3.2\"/>\n<path clip-path=\"url(#clip362)\" d=\"M669.634 363.939 L669.287 363.739 L669.287 363.339 L669.634 363.139 L669.98 363.339 L669.98 363.739 Z\" fill=\"#009af9\" fill-rule=\"evenodd\" fill-opacity=\"1\" stroke=\"#000000\" stroke-opacity=\"1\" stroke-width=\"3.2\"/>\n</svg>\n"
     },
     "execution_count": 127,
     "metadata": {},
     "output_type": "execute_result"
    }
   ],
   "source": [
    "using Graphs, Plots, GraphRecipes\n",
    "g = SimpleDiGraph(size)\n",
    "\n",
    "for i in 1:size \n",
    "    for j in 1:size\n",
    "        if matrix[i,j] != 0\n",
    "            add_edge!(g, i, j)\n",
    "        end\n",
    "    end\n",
    "end\n",
    "graphplot(g, curves=false)"
   ]
  },
  {
   "cell_type": "code",
   "execution_count": 125,
   "metadata": {},
   "outputs": [
    {
     "data": {
      "image/svg+xml": "<?xml version=\"1.0\" encoding=\"utf-8\"?>\n<svg xmlns=\"http://www.w3.org/2000/svg\" xmlns:xlink=\"http://www.w3.org/1999/xlink\" width=\"600\" height=\"400\" viewBox=\"0 0 2400 1600\">\n<defs>\n  <clipPath id=\"clip300\">\n    <rect x=\"0\" y=\"0\" width=\"2400\" height=\"1600\"/>\n  </clipPath>\n</defs>\n<path clip-path=\"url(#clip300)\" d=\"\nM0 1600 L2400 1600 L2400 0 L0 0  Z\n  \" fill=\"#ffffff\" fill-rule=\"evenodd\" fill-opacity=\"1\"/>\n<defs>\n  <clipPath id=\"clip301\">\n    <rect x=\"480\" y=\"0\" width=\"1681\" height=\"1600\"/>\n  </clipPath>\n</defs>\n<path clip-path=\"url(#clip300)\" d=\"\nM447.244 1552.76 L1952.76 1552.76 L1952.76 47.2441 L447.244 47.2441  Z\n  \" fill=\"#ffffff\" fill-rule=\"evenodd\" fill-opacity=\"1\"/>\n<defs>\n  <clipPath id=\"clip302\">\n    <rect x=\"447\" y=\"47\" width=\"1507\" height=\"1507\"/>\n  </clipPath>\n</defs>\n<polyline clip-path=\"url(#clip302)\" style=\"stroke:#000000; stroke-linecap:round; stroke-linejoin:round; stroke-width:4; stroke-opacity:1; fill:none\" points=\"\n  890.111,1337.68 806.742,1234.43 \n  \"/>\n<polyline clip-path=\"url(#clip302)\" style=\"stroke:#000000; stroke-linecap:round; stroke-linejoin:round; stroke-width:4; stroke-opacity:1; fill:none\" points=\"\n  815.354,1273.75 806.742,1234.43 843.363,1251.13 \n  \"/>\n<polyline clip-path=\"url(#clip302)\" style=\"stroke:#000000; stroke-linecap:round; stroke-linejoin:round; stroke-width:4; stroke-opacity:1; fill:none\" points=\"\n  806.742,1234.43 890.111,1337.68 \n  \"/>\n<polyline clip-path=\"url(#clip302)\" style=\"stroke:#000000; stroke-linecap:round; stroke-linejoin:round; stroke-width:4; stroke-opacity:1; fill:none\" points=\"\n  807.38,1215.81 739.068,1104.55 \n  \"/>\n<polyline clip-path=\"url(#clip302)\" style=\"stroke:#000000; stroke-linecap:round; stroke-linejoin:round; stroke-width:4; stroke-opacity:1; fill:none\" points=\"\n  742.566,1144.65 739.068,1104.55 773.245,1125.81 \n  \"/>\n<polyline clip-path=\"url(#clip302)\" style=\"stroke:#000000; stroke-linecap:round; stroke-linejoin:round; stroke-width:4; stroke-opacity:1; fill:none\" points=\"\n  739.068,1104.55 807.38,1215.81 \n  \"/>\n<polyline clip-path=\"url(#clip302)\" style=\"stroke:#000000; stroke-linecap:round; stroke-linejoin:round; stroke-width:4; stroke-opacity:1; fill:none\" points=\"\n  742.32,1085.93 689.868,968.508 \n  \"/>\n<polyline clip-path=\"url(#clip302)\" style=\"stroke:#000000; stroke-linecap:round; stroke-linejoin:round; stroke-width:4; stroke-opacity:1; fill:none\" points=\"\n  688.116,1008.72 689.868,968.508 720.986,994.036 \n  \"/>\n<polyline clip-path=\"url(#clip302)\" style=\"stroke:#000000; stroke-linecap:round; stroke-linejoin:round; stroke-width:4; stroke-opacity:1; fill:none\" points=\"\n  689.868,968.508 742.32,1085.93 \n  \"/>\n<polyline clip-path=\"url(#clip302)\" style=\"stroke:#000000; stroke-linecap:round; stroke-linejoin:round; stroke-width:4; stroke-opacity:1; fill:none\" points=\"\n  695.906,949.883 660.074,828.21 \n  \"/>\n<polyline clip-path=\"url(#clip302)\" style=\"stroke:#000000; stroke-linecap:round; stroke-linejoin:round; stroke-width:4; stroke-opacity:1; fill:none\" points=\"\n  652.977,867.828 660.074,828.21 687.51,857.658 \n  \"/>\n<polyline clip-path=\"url(#clip302)\" style=\"stroke:#000000; stroke-linecap:round; stroke-linejoin:round; stroke-width:4; stroke-opacity:1; fill:none\" points=\"\n  660.074,828.21 695.906,949.883 \n  \"/>\n<polyline clip-path=\"url(#clip302)\" style=\"stroke:#000000; stroke-linecap:round; stroke-linejoin:round; stroke-width:4; stroke-opacity:1; fill:none\" points=\"\n  662.317,667.192 686.288,542.707 \n  \"/>\n<polyline clip-path=\"url(#clip302)\" style=\"stroke:#000000; stroke-linecap:round; stroke-linejoin:round; stroke-width:4; stroke-opacity:1; fill:none\" points=\"\n  661.806,574.654 686.288,542.707 697.157,581.461 \n  \"/>\n<polyline clip-path=\"url(#clip302)\" style=\"stroke:#000000; stroke-linecap:round; stroke-linejoin:round; stroke-width:4; stroke-opacity:1; fill:none\" points=\"\n  686.288,542.707 662.317,667.192 \n  \"/>\n<polyline clip-path=\"url(#clip302)\" style=\"stroke:#000000; stroke-linecap:round; stroke-linejoin:round; stroke-width:4; stroke-opacity:1; fill:none\" points=\"\n  669.247,809.584 675.024,682.435 \n  \"/>\n<polyline clip-path=\"url(#clip302)\" style=\"stroke:#000000; stroke-linecap:round; stroke-linejoin:round; stroke-width:4; stroke-opacity:1; fill:none\" points=\"\n  655.409,717.581 675.024,682.435 691.371,719.215 \n  \"/>\n<polyline clip-path=\"url(#clip302)\" style=\"stroke:#000000; stroke-linecap:round; stroke-linejoin:round; stroke-width:4; stroke-opacity:1; fill:none\" points=\"\n  675.024,682.435 669.247,809.584 \n  \"/>\n<path clip-path=\"url(#clip302)\" d=\"\nM911.618 1337.68 L900.865 1319.06 L879.358 1319.06 L868.604 1337.68 L879.358 1356.31 L900.865 1356.31 L911.618 1337.68 L911.618 1337.68  Z\n  \" fill=\"#009af9\" fill-rule=\"evenodd\" fill-opacity=\"1\"/>\n<polyline clip-path=\"url(#clip302)\" style=\"stroke:#000000; stroke-linecap:round; stroke-linejoin:round; stroke-width:4; stroke-opacity:1; fill:none\" points=\"\n  911.618,1337.68 900.865,1319.06 879.358,1319.06 868.604,1337.68 879.358,1356.31 900.865,1356.31 911.618,1337.68 \n  \"/>\n<path clip-path=\"url(#clip302)\" d=\"\nM828.888 1215.81 L818.134 1197.18 L796.627 1197.18 L785.873 1215.81 L796.627 1234.43 L818.134 1234.43 L828.888 1215.81 L828.888 1215.81  Z\n  \" fill=\"#009af9\" fill-rule=\"evenodd\" fill-opacity=\"1\"/>\n<polyline clip-path=\"url(#clip302)\" style=\"stroke:#000000; stroke-linecap:round; stroke-linejoin:round; stroke-width:4; stroke-opacity:1; fill:none\" points=\"\n  828.888,1215.81 818.134,1197.18 796.627,1197.18 785.873,1215.81 796.627,1234.43 818.134,1234.43 828.888,1215.81 \n  \"/>\n<path clip-path=\"url(#clip302)\" d=\"\nM763.828 1085.93 L753.074 1067.3 L731.567 1067.3 L720.813 1085.93 L731.567 1104.55 L753.074 1104.55 L763.828 1085.93 L763.828 1085.93  Z\n  \" fill=\"#009af9\" fill-rule=\"evenodd\" fill-opacity=\"1\"/>\n<polyline clip-path=\"url(#clip302)\" style=\"stroke:#000000; stroke-linecap:round; stroke-linejoin:round; stroke-width:4; stroke-opacity:1; fill:none\" points=\"\n  763.828,1085.93 753.074,1067.3 731.567,1067.3 720.813,1085.93 731.567,1104.55 753.074,1104.55 763.828,1085.93 \n  \"/>\n<path clip-path=\"url(#clip302)\" d=\"\nM1759.19 725.606 L1748.44 706.98 L1726.93 706.98 L1716.18 725.606 L1726.93 744.231 L1748.44 744.231 L1759.19 725.606 L1759.19 725.606  Z\n  \" fill=\"#009af9\" fill-rule=\"evenodd\" fill-opacity=\"1\"/>\n<polyline clip-path=\"url(#clip302)\" style=\"stroke:#000000; stroke-linecap:round; stroke-linejoin:round; stroke-width:4; stroke-opacity:1; fill:none\" points=\"\n  1759.19,725.606 1748.44,706.98 1726.93,706.98 1716.18,725.606 1726.93,744.231 1748.44,744.231 1759.19,725.606 \n  \"/>\n<path clip-path=\"url(#clip302)\" d=\"\nM1689.54 1276.62 L1678.79 1258 L1657.28 1258 L1646.53 1276.62 L1657.28 1295.25 L1678.79 1295.25 L1689.54 1276.62 L1689.54 1276.62  Z\n  \" fill=\"#009af9\" fill-rule=\"evenodd\" fill-opacity=\"1\"/>\n<polyline clip-path=\"url(#clip302)\" style=\"stroke:#000000; stroke-linecap:round; stroke-linejoin:round; stroke-width:4; stroke-opacity:1; fill:none\" points=\"\n  1689.54,1276.62 1678.79,1258 1657.28,1258 1646.53,1276.62 1657.28,1295.25 1678.79,1295.25 1689.54,1276.62 \n  \"/>\n<path clip-path=\"url(#clip302)\" d=\"\nM1421.34 262.317 L1410.59 243.691 L1389.08 243.691 L1378.33 262.317 L1389.08 280.943 L1410.59 280.943 L1421.34 262.317 L1421.34 262.317  Z\n  \" fill=\"#009af9\" fill-rule=\"evenodd\" fill-opacity=\"1\"/>\n<polyline clip-path=\"url(#clip302)\" style=\"stroke:#000000; stroke-linecap:round; stroke-linejoin:round; stroke-width:4; stroke-opacity:1; fill:none\" points=\"\n  1421.34,262.317 1410.59,243.691 1389.08,243.691 1378.33,262.317 1389.08,280.943 1410.59,280.943 1421.34,262.317 \n  \"/>\n<path clip-path=\"url(#clip302)\" d=\"\nM717.413 949.883 L706.66 931.257 L685.152 931.257 L674.399 949.883 L685.152 968.508 L706.66 968.508 L717.413 949.883 L717.413 949.883  Z\n  \" fill=\"#009af9\" fill-rule=\"evenodd\" fill-opacity=\"1\"/>\n<polyline clip-path=\"url(#clip302)\" style=\"stroke:#000000; stroke-linecap:round; stroke-linejoin:round; stroke-width:4; stroke-opacity:1; fill:none\" points=\"\n  717.413,949.883 706.66,931.257 685.152,931.257 674.399,949.883 685.152,968.508 706.66,968.508 717.413,949.883 717.413,949.883 \n  \"/>\n<path clip-path=\"url(#clip302)\" d=\"\nM683.825 667.192 L673.071 648.566 L651.564 648.566 L640.81 667.192 L651.564 685.818 L673.071 685.818 L683.825 667.192 L683.825 667.192  Z\n  \" fill=\"#009af9\" fill-rule=\"evenodd\" fill-opacity=\"1\"/>\n<polyline clip-path=\"url(#clip302)\" style=\"stroke:#000000; stroke-linecap:round; stroke-linejoin:round; stroke-width:4; stroke-opacity:1; fill:none\" points=\"\n  683.825,667.192 673.071,648.566 651.564,648.566 640.81,667.192 651.564,685.818 673.071,685.818 683.825,667.192 \n  \"/>\n<path clip-path=\"url(#clip302)\" d=\"\nM690.755 809.584 L680.001 790.958 L658.494 790.958 L647.74 809.584 L658.494 828.21 L680.001 828.21 L690.755 809.584 L690.755 809.584  Z\n  \" fill=\"#009af9\" fill-rule=\"evenodd\" fill-opacity=\"1\"/>\n<polyline clip-path=\"url(#clip302)\" style=\"stroke:#000000; stroke-linecap:round; stroke-linejoin:round; stroke-width:4; stroke-opacity:1; fill:none\" points=\"\n  690.755,809.584 680.001,790.958 658.494,790.958 647.74,809.584 658.494,828.21 680.001,828.21 690.755,809.584 \n  \"/>\n<path clip-path=\"url(#clip302)\" d=\"\nM696.661 524.741 L685.908 506.115 L664.4 506.115 L653.647 524.741 L664.4 543.367 L685.908 543.367 L696.661 524.741 L696.661 524.741  Z\n  \" fill=\"#009af9\" fill-rule=\"evenodd\" fill-opacity=\"1\"/>\n<polyline clip-path=\"url(#clip302)\" style=\"stroke:#000000; stroke-linecap:round; stroke-linejoin:round; stroke-width:4; stroke-opacity:1; fill:none\" points=\"\n  696.661,524.741 685.908,506.115 664.4,506.115 653.647,524.741 664.4,543.367 685.908,543.367 696.661,524.741 \n  \"/>\n<path clip-path=\"url(#clip302)\" d=\"M890.111 1338.08 L889.765 1337.88 L889.765 1337.48 L890.111 1337.28 L890.458 1337.48 L890.458 1337.88 Z\" fill=\"#009af9\" fill-rule=\"evenodd\" fill-opacity=\"1\" stroke=\"#000000\" stroke-opacity=\"1\" stroke-width=\"3.2\"/>\n<path clip-path=\"url(#clip302)\" d=\"M807.38 1216.21 L807.034 1216.01 L807.034 1215.61 L807.38 1215.41 L807.727 1215.61 L807.727 1216.01 Z\" fill=\"#009af9\" fill-rule=\"evenodd\" fill-opacity=\"1\" stroke=\"#000000\" stroke-opacity=\"1\" stroke-width=\"3.2\"/>\n<path clip-path=\"url(#clip302)\" d=\"M742.32 1086.33 L741.974 1086.13 L741.974 1085.73 L742.32 1085.53 L742.667 1085.73 L742.667 1086.13 Z\" fill=\"#009af9\" fill-rule=\"evenodd\" fill-opacity=\"1\" stroke=\"#000000\" stroke-opacity=\"1\" stroke-width=\"3.2\"/>\n<path clip-path=\"url(#clip302)\" d=\"M1737.68 726.006 L1737.34 725.806 L1737.34 725.406 L1737.68 725.206 L1738.03 725.406 L1738.03 725.806 Z\" fill=\"#009af9\" fill-rule=\"evenodd\" fill-opacity=\"1\" stroke=\"#000000\" stroke-opacity=\"1\" stroke-width=\"3.2\"/>\n<path clip-path=\"url(#clip302)\" d=\"M1668.03 1277.02 L1667.69 1276.82 L1667.69 1276.42 L1668.03 1276.22 L1668.38 1276.42 L1668.38 1276.82 Z\" fill=\"#009af9\" fill-rule=\"evenodd\" fill-opacity=\"1\" stroke=\"#000000\" stroke-opacity=\"1\" stroke-width=\"3.2\"/>\n<path clip-path=\"url(#clip302)\" d=\"M1399.83 262.717 L1399.49 262.517 L1399.49 262.117 L1399.83 261.917 L1400.18 262.117 L1400.18 262.517 Z\" fill=\"#009af9\" fill-rule=\"evenodd\" fill-opacity=\"1\" stroke=\"#000000\" stroke-opacity=\"1\" stroke-width=\"3.2\"/>\n<path clip-path=\"url(#clip302)\" d=\"M695.906 950.283 L695.56 950.083 L695.56 949.683 L695.906 949.483 L696.253 949.683 L696.253 950.083 Z\" fill=\"#009af9\" fill-rule=\"evenodd\" fill-opacity=\"1\" stroke=\"#000000\" stroke-opacity=\"1\" stroke-width=\"3.2\"/>\n<path clip-path=\"url(#clip302)\" d=\"M662.317 667.592 L661.971 667.392 L661.971 666.992 L662.317 666.792 L662.664 666.992 L662.664 667.392 Z\" fill=\"#009af9\" fill-rule=\"evenodd\" fill-opacity=\"1\" stroke=\"#000000\" stroke-opacity=\"1\" stroke-width=\"3.2\"/>\n<path clip-path=\"url(#clip302)\" d=\"M669.247 809.984 L668.901 809.784 L668.901 809.384 L669.247 809.184 L669.594 809.384 L669.594 809.784 Z\" fill=\"#009af9\" fill-rule=\"evenodd\" fill-opacity=\"1\" stroke=\"#000000\" stroke-opacity=\"1\" stroke-width=\"3.2\"/>\n<path clip-path=\"url(#clip302)\" d=\"M675.154 525.141 L674.808 524.941 L674.808 524.541 L675.154 524.341 L675.5 524.541 L675.5 524.941 Z\" fill=\"#009af9\" fill-rule=\"evenodd\" fill-opacity=\"1\" stroke=\"#000000\" stroke-opacity=\"1\" stroke-width=\"3.2\"/>\n</svg>\n"
     },
     "execution_count": 125,
     "metadata": {},
     "output_type": "execute_result"
    }
   ],
   "source": [
    "l = SimpleDiGraph(size)\n",
    "\n",
    "for i in 1:size \n",
    "    for j in 1:size\n",
    "        if q[i,j] == 1\n",
    "            add_edge!(l, i, j)\n",
    "        end\n",
    "    end\n",
    "end\n",
    "graphplot(l, curves=false)"
   ]
  }
 ],
 "metadata": {
  "kernelspec": {
   "display_name": "Julia 1.7.2",
   "language": "julia",
   "name": "julia-1.7"
  },
  "language_info": {
   "file_extension": ".jl",
   "mimetype": "application/julia",
   "name": "julia",
   "version": "1.7.2"
  },
  "orig_nbformat": 4
 },
 "nbformat": 4,
 "nbformat_minor": 2
}

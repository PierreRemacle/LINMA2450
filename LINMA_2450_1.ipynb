{
 "cells": [
  {
   "cell_type": "code",
   "execution_count": 1,
   "metadata": {},
   "outputs": [
    {
     "name": "stdout",
     "output_type": "stream",
     "text": [
      "hello world"
     ]
    }
   ],
   "source": [
    "print(\"hello world\")"
   ]
  },
  {
   "cell_type": "code",
   "execution_count": 2,
   "metadata": {},
   "outputs": [
    {
     "name": "stdout",
     "output_type": "stream",
     "text": [
      "Dict{String, Any}(\"weight\" => Dict{String, Any}(\"8\" => Dict{String, Any}(\"10\" => 2), \"4\" => Dict{String, Any}(\"6\" => 1, \"7\" => 5), \"1\" => Dict{String, Any}(\"4\" => 10, \"2\" => 1, \"3\" => 5), \"5\" => Dict{String, Any}(\"3\" => 1, \"8\" => 6), \"2\" => Dict{String, Any}(\"3\" => 1), \"6\" => Dict{String, Any}(\"5\" => 1, \"10\" => 10), \"7\" => Dict{String, Any}(\"9\" => 1), \"10\" => Dict{String, Any}(), \"9\" => Dict{String, Any}(\"10\" => 5, \"8\" => 1), \"3\" => Dict{String, Any}(\"7\" => 1)), \"N\" => Any[\"1\", \"2\", \"3\", \"4\", \"5\", \"6\", \"7\", \"8\", \"9\", \"10\"], \"From\" => Dict{String, Any}(\"8\" => Any[\"10\"], \"4\" => Any[\"6\", \"7\"], \"1\" => Any[\"2\", \"3\", \"4\"], \"5\" => Any[\"3\", \"8\"], \"2\" => Any[\"3\"], \"6\" => Any[\"5\", \"10\"], \"7\" => Any[\"9\"], \"10\" => Any[], \"9\" => Any[\"8\", \"10\"], \"3\" => Any[\"7\"]), \"t\" => \"10\", \"To\" => Dict{String, Any}(\"3\" => Any[\"1\", \"2\", \"5\"], \"4\" => Any[\"1\"], \"1\" => Any[], \"5\" => Any[\"6\"], \"2\" => Any[\"1\"], \"6\" => Any[\"4\"], \"7\" => Any[\"3\", \"4\"], \"10\" => Any[\"6\", \"8\", \"9\"], \"9\" => Any[\"7\"], \"8\" => Any[\"5\", \"9\"]), \"s\" => \"1\")\n"
     ]
    }
   ],
   "source": [
    "using JuMP, GLPK, JSON\n",
    "model = Model(GLPK.Optimizer)\n",
    "dict = Dict()\n",
    "dict = JSON.parse(open(\"small.json\"))\n",
    "\n",
    "dict2 = Dict()\n",
    "open(\"small.json\", \"r\") do f\n",
    "    global dict2\n",
    "    dict2=JSON.parse(f)  # parse and transform data\n",
    "end\n",
    "\n",
    "\n",
    "println(dict2)"
   ]
  }
 ],
 "metadata": {
  "kernelspec": {
   "display_name": "Julia 1.7.2",
   "language": "julia",
   "name": "julia-1.7"
  },
  "language_info": {
   "file_extension": ".jl",
   "mimetype": "application/julia",
   "name": "julia",
   "version": "1.7.2"
  },
  "orig_nbformat": 4
 },
 "nbformat": 4,
 "nbformat_minor": 2
}

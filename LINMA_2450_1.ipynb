{
 "cells": [
  {
   "cell_type": "code",
   "execution_count": 2,
   "metadata": {},
   "outputs": [
    {
     "name": "stdout",
     "output_type": "stream",
     "text": [
      "hello world"
     ]
    }
   ],
   "source": [
    "print(\"hello world\")"
   ]
  },
  {
   "cell_type": "code",
   "execution_count": 1,
   "metadata": {},
   "outputs": [
    {
     "name": "stdout",
     "output_type": "stream",
     "text": [
      "---weight--\n",
      "Dict{String, Any}(\"4\" => 10, \"2\" => 1, \"3\" => 5)\n",
      "---From--\n",
      "Any[\"2\", \"3\", \"4\"]\n",
      "---To--\n",
      "Any[]\n",
      "10\n"
     ]
    }
   ],
   "source": [
    "using JuMP,Gurobi ,GLPK, JSON,Pkg , Gurobi\n",
    "model = Model(GLPK.Optimizer)\n",
    "dict = Dict()\n",
    "dict = JSON.parsefile(\"small.json\")\n",
    "\n",
    "\n",
    "println(\"---weight--\")\n",
    "println(dict[\"weight\"][\"1\"])\n",
    "println(\"---From--\")\n",
    "println(dict[\"From\"][\"1\"])\n",
    "println(\"---To--\")\n",
    "println(dict[\"To\"][\"1\"])\n",
    "println(dict[\"t\"])"
   ]
  },
  {
   "cell_type": "code",
   "execution_count": 6,
   "metadata": {},
   "outputs": [
    {
     "name": "stdout",
     "output_type": "stream",
     "text": [
      "10"
     ]
    }
   ],
   "source": [
    "\n",
    "size = length(dict[\"weight\"])\n",
    "matrix = zeros(size , size)\n",
    "matrix[3,3]=6\n",
    "print(size)\n",
    "for i in dict[\"N\"]\n",
    "    #display(dict[\"weight\"][i])\n",
    "end"
   ]
  },
  {
   "cell_type": "code",
   "execution_count": 3,
   "metadata": {},
   "outputs": [
    {
     "data": {
      "text/plain": [
       "10×10 Matrix{Int64}:\n",
       " 0  1  5  10  0  0  0  0  0   0\n",
       " 0  0  1   0  0  0  0  0  0   0\n",
       " 0  0  0   0  0  0  1  0  0   0\n",
       " 0  0  0   0  0  1  5  0  0   0\n",
       " 0  0  1   0  0  0  0  6  0   0\n",
       " 0  0  0   0  1  0  0  0  0  10\n",
       " 0  0  0   0  0  0  0  0  1   0\n",
       " 0  0  0   0  0  0  0  0  0   2\n",
       " 0  0  0   0  0  0  0  1  0   5\n",
       " 0  0  0   0  0  0  0  0  0   0"
      ]
     },
     "metadata": {},
     "output_type": "display_data"
    }
   ],
   "source": [
    "\n",
    "\n",
    "#set_optimizer_attribute(model, \"Presolve\", 0)\n",
    "#set_optimizer_attribute(model, \"Heuristics\",0)\n",
    "#set_optimizer_attribute(model, \"Cuts\", 0)\n",
    "size = length(dict[\"N\"])\n",
    "matrix = zeros(Int64,size , size)\n",
    "b=zeros(size)\n",
    "\n",
    "#print(\"\\n\")\n",
    "b[parse(Int,dict[\"s\"])] = 1\n",
    "b[parse(Int,dict[\"t\"])] = -1\n",
    "\n",
    "#print(matrix[10,:])\n",
    "\n",
    "for i in dict[\"N\"]\n",
    "    from = dict[\"From\"][i]\n",
    "    to = dict[\"To\"][i]\n",
    "    for j in from\n",
    "        matrix[(parse(Int64,i)),parse(Int64,j)]=dict[\"weight\"][i][j]\n",
    "    end\n",
    "end\n",
    "display(matrix)\n"
   ]
  },
  {
   "cell_type": "code",
   "execution_count": 4,
   "metadata": {},
   "outputs": [
    {
     "name": "stdout",
     "output_type": "stream",
     "text": [
      "Set parameter Username\n",
      "Academic license - for non-commercial use only - expires 2023-11-04\n",
      "Set parameter Username\n",
      "Academic license - for non-commercial use only - expires 2023-11-04\n",
      "Gurobi Optimizer version 9.5.2 build v9.5.2rc0 (mac64[x86])\n",
      "Thread count: 2 physical cores, 4 logical processors, using up to 4 threads\n",
      "Optimize a model with 95 rows, 100 columns and 265 nonzeros\n",
      "Model fingerprint: 0xa459550a\n",
      "Variable types: 0 continuous, 100 integer (100 binary)\n",
      "Coefficient statistics:\n",
      "  Matrix range     [1e+00, 1e+00]\n",
      "  Objective range  [1e+00, 1e+01]\n",
      "  Bounds range     [0e+00, 0e+00]\n",
      "  RHS range        [1e+00, 1e+00]\n",
      "Found heuristic solution: objective 20.0000000\n",
      "Presolve removed 95 rows and 100 columns\n",
      "Presolve time: 0.02s\n",
      "Presolve: All rows and columns removed\n",
      "\n",
      "Explored 0 nodes (0 simplex iterations) in 0.03 seconds (0.00 work units)\n",
      "Thread count was 1 (of 4 available processors)\n",
      "\n",
      "Solution count 2: 7 20 \n",
      "\n",
      "Optimal solution found (tolerance 1.00e-04)\n",
      "Best objective 7.000000000000e+00, best bound 7.000000000000e+00, gap 0.0000%\n",
      "\n",
      "User-callback calls 298, time in user-callback 0.01 sec\n"
     ]
    },
    {
     "data": {
      "text/plain": [
       "7.0"
      ]
     },
     "execution_count": 4,
     "metadata": {},
     "output_type": "execute_result"
    }
   ],
   "source": [
    "\n",
    "Gurobi.Env()\n",
    "model = Model(Gurobi.Optimizer)\n",
    "@variable(model, x[1:size, 1:size], Bin)\n",
    "@constraint(model, [i = 1:size, j = 1:size; matrix[i, j] == 0], x[i, j] == 0)\n",
    "@constraint(model, [i = 1:size], sum(x[i, :]) - sum(x[:, i]) == b[i],)\n",
    "@objective(model, Min, sum(matrix .* x))\n",
    "optimize!(model)\n",
    "objective_value(model)\n"
   ]
  },
  {
   "cell_type": "code",
   "execution_count": null,
   "metadata": {},
   "outputs": [],
   "source": []
  }
 ],
 "metadata": {
  "kernelspec": {
   "display_name": "Julia 1.7.2",
   "language": "julia",
   "name": "julia-1.7"
  },
  "language_info": {
   "file_extension": ".jl",
   "mimetype": "application/julia",
   "name": "julia",
   "version": "1.7.2"
  },
  "orig_nbformat": 4
 },
 "nbformat": 4,
 "nbformat_minor": 2
}

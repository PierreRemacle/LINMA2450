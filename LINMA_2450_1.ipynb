{
 "cells": [
  {
   "cell_type": "code",
   "execution_count": 1,
   "metadata": {},
   "outputs": [
    {
     "name": "stdout",
     "output_type": "stream",
     "text": [
      "hello world"
     ]
    }
   ],
   "source": [
    "print(\"hello world\")"
   ]
  },
  {
   "cell_type": "code",
   "execution_count": 22,
   "metadata": {},
   "outputs": [
    {
     "ename": "LoadError",
     "evalue": "ArgumentError: write failed, IOStream is not writeable",
     "output_type": "error",
     "traceback": [
      "ArgumentError: write failed, IOStream is not writeable",
      "",
      "Stacktrace:",
      " [1] write(s::IOStream, b::UInt8)",
      "   @ Base ./iostream.jl:367",
      " [2] write",
      "   @ ./io.jl:702 [inlined]",
      " [3] print",
      "   @ ./char.jl:252 [inlined]",
      " [4] println(io::IOStream)",
      "   @ Base ./coreio.jl:5",
      " [5] top-level scope",
      "   @ In[22]:5",
      " [6] eval",
      "   @ ./boot.jl:373 [inlined]",
      " [7] include_string(mapexpr::typeof(REPL.softscope), mod::Module, code::String, filename::String)",
      "   @ Base ./loading.jl:1196"
   "execution_count": 4,
   "metadata": {},
   "outputs": [
    {
     "name": "stdout",
     "output_type": "stream",
     "text": [
      "Dict{String, Any}("
     ]
    },
    {
     "name": "stdout",
     "output_type": "stream",
     "text": [
      "\"weight\" => Dict{String, Any}(\"8\" => Dict{String, Any}(\"10\" => 2), \"4\" => Dict{String, Any}(\"6\" => 1, \"7\" => 5), \"1\" => Dict{String, Any}(\"4\" => 10, \"2\" => 1, \"3\" => 5), \"5\" => Dict{String, Any}(\"3\" => 1, \"8\" => 6), \"2\" => Dict{String, Any}(\"3\" => 1), \"6\" => Dict{String, Any}(\"5\" => 1, \"10\" => 10), \"7\" => Dict{String, Any}(\"9\" => 1), \"10\" => Dict{String, Any}(), \"9\" => Dict{String, Any}(\"10\" => 5, \"8\" => 1), \"3\" => Dict{String, Any}(\"7\" => 1)), \"N\" => Any"
     ]
    },
    {
     "name": "stdout",
     "output_type": "stream",
     "text": [
      "[\"1\", \"2\", \"3\", \"4\", \"5\", \"6\", \"7\", \"8\", \"9\", \"10\"], \"From\" => Dict{String, Any}(\"8\" => Any[\"10\"], \"4\" => Any[\"6\", \"7\"], \"1\" => Any[\"2\", \"3\", \"4\"], \"5\" => Any[\"3\", \"8\"], \"2\" => Any[\"3\"], \"6\" => Any[\"5\", \"10\"], \"7\" => Any[\"9\"], \"10\" => Any[], \"9\" => Any[\"8\", \"10\"], \"3\" => Any[\"7\"]), \"t\" => \"10\", \"To\" => Dict{String, Any}(\"3\" => Any[\"1\", \"2\", \"5\"], \"4\" => Any[\"1\"], \"1\" => Any[], \"5\" => Any[\"6\"], \"2\" => Any[\"1\"], \"6\" => Any[\"4\"], \"7\" => Any[\"3\", \"4\"], \"10\" => Any[\"6\", \"8\", \"9\"], \"9\" => Any[\"7\"], \"8\" => Any[\"5\", \"9\"]), \"s\" => \"1\")\n"
     ]
    }
   ],
   "source": [
    "using JuMP, GLPK, JSON,Pkg\n",
    "model = Model(GLPK.Optimizer)\n",
    "dict = Dict()\n",
    "dict = JSON.parse(open(\"small.json\"))\n",
    "#JSON.json(dict)\n",
    "\n",
    "\n",
    "println(dict)"
   ]
  },
  {
   "cell_type": "code",
   "execution_count": 23,
   "metadata": {},
   "outputs": [
    {
     "name": "stderr",
     "output_type": "stream",
     "text": [
      "┌ Info: Precompiling Gurobi [2e9cd046-0924-5485-92f1-d5272153d98b]\n",
      "└ @ Base loading.jl:1423\n",
      "\u001b[91m\u001b[1mERROR: \u001b[22m\u001b[39mLoadError: SystemError: opening file \"/Users/damienvanoldeneel/.julia/packages/Gurobi/PnexG/deps/deps.jl\": No such file or directory\n",
      "Stacktrace:\n",
      "  [1] \u001b[0m\u001b[1msystemerror\u001b[22m\u001b[0m\u001b[1m(\u001b[22m\u001b[90mp\u001b[39m::\u001b[0mString, \u001b[90merrno\u001b[39m::\u001b[0mInt32; \u001b[90mextrainfo\u001b[39m::\u001b[0mNothing\u001b[0m\u001b[1m)\u001b[22m\n",
      "\u001b[90m    @ \u001b[39m\u001b[90mBase\u001b[39m \u001b[90m./\u001b[39m\u001b[90m\u001b[4merror.jl:174\u001b[24m\u001b[39m\n",
      "  [2] \u001b[0m\u001b[1m#systemerror#68\u001b[22m\n",
      "\u001b[90m    @ \u001b[39m\u001b[90m./\u001b[39m\u001b[90m\u001b[4merror.jl:173\u001b[24m\u001b[39m\u001b[90m [inlined]\u001b[39m\n",
      "  [3] \u001b[0m\u001b[1msystemerror\u001b[22m\n",
      "\u001b[90m    @ \u001b[39m\u001b[90m./\u001b[39m\u001b[90m\u001b[4merror.jl:173\u001b[24m\u001b[39m\u001b[90m [inlined]\u001b[39m\n",
      "  [4] \u001b[0m\u001b[1mopen\u001b[22m\u001b[0m\u001b[1m(\u001b[22m\u001b[90mfname\u001b[39m::\u001b[0mString; \u001b[90mlock\u001b[39m::\u001b[0mBool, \u001b[90mread\u001b[39m::\u001b[0mNothing, \u001b[90mwrite\u001b[39m::\u001b[0mNothing, \u001b[90mcreate\u001b[39m::\u001b[0mNothing, \u001b[90mtruncate\u001b[39m::\u001b[0mNothing, \u001b[90mappend\u001b[39m::\u001b[0mNothing\u001b[0m\u001b[1m)\u001b[22m\n",
      "\u001b[90m    @ \u001b[39m\u001b[90mBase\u001b[39m \u001b[90m./\u001b[39m\u001b[90m\u001b[4miostream.jl:293\u001b[24m\u001b[39m\n",
      "  [5] \u001b[0m\u001b[1mopen\u001b[22m\n",
      "\u001b[90m    @ \u001b[39m\u001b[90m./\u001b[39m\u001b[90m\u001b[4miostream.jl:282\u001b[24m\u001b[39m\u001b[90m [inlined]\u001b[39m\n",
      "  [6] \u001b[0m\u001b[1mopen\u001b[22m\u001b[0m\u001b[1m(\u001b[22m\u001b[90mf\u001b[39m::\u001b[0mBase.var\"#364#365\"\u001b[90m{String}\u001b[39m, \u001b[90margs\u001b[39m::\u001b[0mString; \u001b[90mkwargs\u001b[39m::\u001b[0mBase.Pairs\u001b[90m{Symbol, Union{}, Tuple{}, NamedTuple{(), Tuple{}}}\u001b[39m\u001b[0m\u001b[1m)\u001b[22m\n",
      "\u001b[90m    @ \u001b[39m\u001b[90mBase\u001b[39m \u001b[90m./\u001b[39m\u001b[90m\u001b[4mio.jl:328\u001b[24m\u001b[39m\n",
      "  [7] \u001b[0m\u001b[1mopen\u001b[22m\n",
      "\u001b[90m    @ \u001b[39m\u001b[90m./\u001b[39m\u001b[90m\u001b[4mio.jl:328\u001b[24m\u001b[39m\u001b[90m [inlined]\u001b[39m\n",
      "  [8] \u001b[0m\u001b[1mread\u001b[22m\n",
      "\u001b[90m    @ \u001b[39m\u001b[90m./\u001b[39m\u001b[90m\u001b[4mio.jl:436\u001b[24m\u001b[39m\u001b[90m [inlined]\u001b[39m\n",
      "  [9] \u001b[0m\u001b[1m_include\u001b[22m\u001b[0m\u001b[1m(\u001b[22m\u001b[90mmapexpr\u001b[39m::\u001b[0mFunction, \u001b[90mmod\u001b[39m::\u001b[0mModule, \u001b[90m_path\u001b[39m::\u001b[0mString\u001b[0m\u001b[1m)\u001b[22m\n",
      "\u001b[90m    @ \u001b[39m\u001b[90mBase\u001b[39m \u001b[90m./\u001b[39m\u001b[90m\u001b[4mloading.jl:1249\u001b[24m\u001b[39m\n",
      " [10] \u001b[0m\u001b[1minclude\u001b[22m\u001b[0m\u001b[1m(\u001b[22m\u001b[90mmod\u001b[39m::\u001b[0mModule, \u001b[90m_path\u001b[39m::\u001b[0mString\u001b[0m\u001b[1m)\u001b[22m\n",
      "\u001b[90m    @ \u001b[39m\u001b[90mBase\u001b[39m \u001b[90m./\u001b[39m\u001b[90m\u001b[4mBase.jl:418\u001b[24m\u001b[39m\n",
      " [11] \u001b[0m\u001b[1minclude\u001b[22m\u001b[0m\u001b[1m(\u001b[22m\u001b[90mx\u001b[39m::\u001b[0mString\u001b[0m\u001b[1m)\u001b[22m\n",
      "\u001b[90m    @ \u001b[39m\u001b[35mGurobi\u001b[39m \u001b[90m~/.julia/packages/Gurobi/PnexG/src/\u001b[39m\u001b[90m\u001b[4mGurobi.jl:1\u001b[24m\u001b[39m\n",
      " [12] top-level scope\n",
      "\u001b[90m    @ \u001b[39m\u001b[90m~/.julia/packages/Gurobi/PnexG/src/\u001b[39m\u001b[90m\u001b[4mGurobi.jl:8\u001b[24m\u001b[39m\n",
      " [13] \u001b[0m\u001b[1minclude\u001b[22m\n",
      "\u001b[90m    @ \u001b[39m\u001b[90m./\u001b[39m\u001b[90m\u001b[4mBase.jl:418\u001b[24m\u001b[39m\u001b[90m [inlined]\u001b[39m\n",
      " [14] \u001b[0m\u001b[1minclude_package_for_output\u001b[22m\u001b[0m\u001b[1m(\u001b[22m\u001b[90mpkg\u001b[39m::\u001b[0mBase.PkgId, \u001b[90minput\u001b[39m::\u001b[0mString, \u001b[90mdepot_path\u001b[39m::\u001b[0mVector\u001b[90m{String}\u001b[39m, \u001b[90mdl_load_path\u001b[39m::\u001b[0mVector\u001b[90m{String}\u001b[39m, \u001b[90mload_path\u001b[39m::\u001b[0mVector\u001b[90m{String}\u001b[39m, \u001b[90mconcrete_deps\u001b[39m::\u001b[0mVector\u001b[90m{Pair{Base.PkgId, UInt64}}\u001b[39m, \u001b[90msource\u001b[39m::\u001b[0mNothing\u001b[0m\u001b[1m)\u001b[22m\n",
      "\u001b[90m    @ \u001b[39m\u001b[90mBase\u001b[39m \u001b[90m./\u001b[39m\u001b[90m\u001b[4mloading.jl:1318\u001b[24m\u001b[39m\n",
      " [15] top-level scope\n",
      "\u001b[90m    @ \u001b[39m\u001b[90m\u001b[4mnone:1\u001b[24m\u001b[39m\n",
      " [16] \u001b[0m\u001b[1meval\u001b[22m\n",
      "\u001b[90m    @ \u001b[39m\u001b[90m./\u001b[39m\u001b[90m\u001b[4mboot.jl:373\u001b[24m\u001b[39m\u001b[90m [inlined]\u001b[39m\n",
      " [17] \u001b[0m\u001b[1meval\u001b[22m\u001b[0m\u001b[1m(\u001b[22m\u001b[90mx\u001b[39m::\u001b[0mExpr\u001b[0m\u001b[1m)\u001b[22m\n",
      "\u001b[90m    @ \u001b[39m\u001b[90mBase.MainInclude\u001b[39m \u001b[90m./\u001b[39m\u001b[90m\u001b[4mclient.jl:453\u001b[24m\u001b[39m\n",
      " [18] top-level scope\n",
      "\u001b[90m    @ \u001b[39m\u001b[90m\u001b[4mnone:1\u001b[24m\u001b[39m\n",
      "in expression starting at /Users/damienvanoldeneel/.julia/packages/Gurobi/PnexG/src/Gurobi.jl:1\n"
     ]
    },
    {
     "ename": "LoadError",
     "evalue": "Failed to precompile Gurobi [2e9cd046-0924-5485-92f1-d5272153d98b] to /Users/damienvanoldeneel/.julia/compiled/v1.7/Gurobi/jl_80CEwd.",
     "output_type": "error",
     "traceback": [
      "Failed to precompile Gurobi [2e9cd046-0924-5485-92f1-d5272153d98b] to /Users/damienvanoldeneel/.julia/compiled/v1.7/Gurobi/jl_80CEwd.",
      "",
      "Stacktrace:",
      " [1] error(s::String)",
      "   @ Base ./error.jl:33",
      " [2] compilecache(pkg::Base.PkgId, path::String, internal_stderr::IO, internal_stdout::IO, ignore_loaded_modules::Bool)",
      "   @ Base ./loading.jl:1466",
      " [3] compilecache(pkg::Base.PkgId, path::String)",
      "   @ Base ./loading.jl:1410",
      " [4] _require(pkg::Base.PkgId)",
      "   @ Base ./loading.jl:1120",
      " [5] require(uuidkey::Base.PkgId)",
      "   @ Base ./loading.jl:1013",
      " [6] require(into::Module, mod::Symbol)",
      "   @ Base ./loading.jl:997",
      " [7] eval",
      "   @ ./boot.jl:373 [inlined]",
      " [8] include_string(mapexpr::typeof(REPL.softscope), mod::Module, code::String, filename::String)",
      "   @ Base ./loading.jl:1196"
     ]
    }
   ],
   "source": [
    "using JuMP, Gurobi\n",
    "#verifier si c'est les bon flags\n",
    "solver = optimizer_with_attributes(() -> Gurobi.Optimizer(), \"OutputFlag\" => 0, \"Method\" => 0)\n",
    "#création modèle vide\n",
    "master_model = Model(solver)\n",
    "\n",
    "function initialize_master(model::Model, lower_bound::Int64)\n",
    "    @variable(model, theta)\n",
    "    @constraint(model, theta >= lower_bound)\n",
    "    objective = objective_function(model)\n",
    "    sense = objective_sense(model)\n",
    "    @objective(model, sense, objective + theta)\n",
    "end\n",
    "\n",
    "initialize_master(master_model, 0)\n",
    "#optimize!(master_model)"
   ]
  }
 ],
 "metadata": {
  "kernelspec": {
   "display_name": "Julia 1.8.2",
   "language": "julia",
   "name": "julia-1.8"
  },
  "language_info": {
   "file_extension": ".jl",
   "mimetype": "application/julia",
   "name": "julia",
   "version": "1.8.2"
  },
  "orig_nbformat": 4
 },
 "nbformat": 4,
 "nbformat_minor": 2
}
